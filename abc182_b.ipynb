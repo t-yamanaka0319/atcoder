{
 "cells": [
  {
   "cell_type": "code",
   "execution_count": 8,
   "metadata": {},
   "outputs": [
    {
     "name": "stdin",
     "output_type": "stream",
     "text": [
      " 5\n",
      " 1000 1000 1000 1000 1000\n"
     ]
    },
    {
     "name": "stdout",
     "output_type": "stream",
     "text": [
      "1000\n"
     ]
    }
   ],
   "source": [
    "# 入力を受ける\n",
    "N = int(input())\n",
    "A = list(map(int, input().split()))\n",
    "\n",
    "k = 0\n",
    "max_gcd = 0\n",
    "for i in range(2, max(A)+1):\n",
    "    count = 0\n",
    "    for a in A:\n",
    "        if a%i == 0:\n",
    "            count += 1\n",
    "    if max_gcd <= count:\n",
    "        k = i\n",
    "        max_gcd = count\n",
    "        \n",
    "# 出力する\n",
    "print(k)"
   ]
  },
  {
   "cell_type": "code",
   "execution_count": null,
   "metadata": {},
   "outputs": [],
   "source": []
  }
 ],
 "metadata": {
  "kernelspec": {
   "display_name": "Python 3",
   "language": "python",
   "name": "python3"
  },
  "language_info": {
   "codemirror_mode": {
    "name": "ipython",
    "version": 3
   },
   "file_extension": ".py",
   "mimetype": "text/x-python",
   "name": "python",
   "nbconvert_exporter": "python",
   "pygments_lexer": "ipython3",
   "version": "3.8.6"
  }
 },
 "nbformat": 4,
 "nbformat_minor": 4
}
