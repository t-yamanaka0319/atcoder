{
 "cells": [
  {
   "cell_type": "code",
   "execution_count": 32,
   "metadata": {},
   "outputs": [
    {
     "name": "stdin",
     "output_type": "stream",
     "text": [
      " 3 5\n",
      " .....\n",
      " .#.#.\n",
      " .....\n"
     ]
    },
    {
     "name": "stdout",
     "output_type": "stream",
     "text": [
      "11111\n",
      "1#1#1\n",
      "11111\n"
     ]
    }
   ],
   "source": [
    "# H,W,Sを受けとる\n",
    "H,W = map(int,input().split())\n",
    "S = [input() for i in range(0,H)]\n",
    "\n",
    "# 各.の周囲Max8方向にある#をカウントする\n",
    "for i in range(0,H):\n",
    "    s_count = []\n",
    "    for j in range(0,W):\n",
    "        if S[i][j] == '.':\n",
    "            \n",
    "            s_count.append('1')\n",
    "        else:\n",
    "            s_count.append('#')\n",
    "    # 出力する\n",
    "    print(''.join(s_count))"
   ]
  },
  {
   "cell_type": "code",
   "execution_count": null,
   "metadata": {},
   "outputs": [],
   "source": [
    "S"
   ]
  },
  {
   "cell_type": "code",
   "execution_count": 1,
   "metadata": {},
   "outputs": [
    {
     "name": "stdin",
     "output_type": "stream",
     "text": [
      " 3 5\n",
      " .....\n",
      " .#.#.\n",
      " .....\n"
     ]
    },
    {
     "name": "stdout",
     "output_type": "stream",
     "text": [
      "11211\n",
      "1#2#1\n",
      "11211\n"
     ]
    }
   ],
   "source": [
    "H, W = map(int, (input().split()))\n",
    "S = [input() for i in range(H)]\n",
    " \n",
    "ret = ['' for i in range(H)]\n",
    "for h in range(H):\n",
    "    for w in range(W):\n",
    "        counter = 0\n",
    "        if S[h][w] == '.':\n",
    "            # 上に行がある場合\n",
    "            if h > 0:\n",
    "                up_row = S[h-1][w-1 if w > 0 else 0:w+2]\n",
    "                counter += up_row.count('#')\n",
    "            \n",
    "            current_row = S[h][w-1 if w > 0 else 0:w+2]\n",
    "            counter += current_row.count('#')\n",
    "            \n",
    "            # 下に行がある場合\n",
    "            if h < H-1:\n",
    "                under_row = S[h+1][w-1 if w > 0 else 0:w+2]\n",
    "                counter += under_row.count('#')\n",
    "                \n",
    "        ret[h] += str(counter) if S[h][w] == '.' else '#'\n",
    "            \n",
    "for r in ret:\n",
    "    print(r)   "
   ]
  },
  {
   "cell_type": "code",
   "execution_count": null,
   "metadata": {},
   "outputs": [],
   "source": []
  }
 ],
 "metadata": {
  "kernelspec": {
   "display_name": "Python 3",
   "language": "python",
   "name": "python3"
  },
  "language_info": {
   "codemirror_mode": {
    "name": "ipython",
    "version": 3
   },
   "file_extension": ".py",
   "mimetype": "text/x-python",
   "name": "python",
   "nbconvert_exporter": "python",
   "pygments_lexer": "ipython3",
   "version": "3.8.6"
  }
 },
 "nbformat": 4,
 "nbformat_minor": 4
}
