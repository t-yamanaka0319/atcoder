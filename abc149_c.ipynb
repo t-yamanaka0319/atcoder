{
 "cells": [
  {
   "cell_type": "code",
   "execution_count": 8,
   "metadata": {},
   "outputs": [
    {
     "name": "stdin",
     "output_type": "stream",
     "text": [
      " 20\n"
     ]
    },
    {
     "name": "stdout",
     "output_type": "stream",
     "text": [
      "23\n"
     ]
    }
   ],
   "source": [
    "X = int(input())\n",
    "\n",
    "if X != 2:\n",
    "    if X%2 == 0:\n",
    "        X += 1\n",
    "    while True:\n",
    "        s_flg = True\n",
    "        for j in range(3,int(X**0.5) + 1, 2):\n",
    "\n",
    "            if X%j == 0:\n",
    "                s_flg = False\n",
    "                break\n",
    "        if s_flg:\n",
    "            break\n",
    "        X += 2\n",
    "    \n",
    "print(X)"
   ]
  },
  {
   "cell_type": "code",
   "execution_count": 9,
   "metadata": {},
   "outputs": [
    {
     "name": "stdin",
     "output_type": "stream",
     "text": [
      " 99992\n"
     ]
    },
    {
     "name": "stdout",
     "output_type": "stream",
     "text": [
      "100003\n"
     ]
    }
   ],
   "source": [
    "X = int(input())\n",
    "\n",
    "while True:\n",
    "    s_flg = True\n",
    "    for j in range(2,int(X**0.5) + 1):\n",
    "        \n",
    "        if X%j == 0:\n",
    "            s_flg = False\n",
    "            break\n",
    "    if s_flg:\n",
    "        break\n",
    "    X += 1\n",
    "    \n",
    "print(X)"
   ]
  },
  {
   "cell_type": "code",
   "execution_count": null,
   "metadata": {},
   "outputs": [],
   "source": []
  }
 ],
 "metadata": {
  "kernelspec": {
   "display_name": "Python 3",
   "language": "python",
   "name": "python3"
  },
  "language_info": {
   "codemirror_mode": {
    "name": "ipython",
    "version": 3
   },
   "file_extension": ".py",
   "mimetype": "text/x-python",
   "name": "python",
   "nbconvert_exporter": "python",
   "pygments_lexer": "ipython3",
   "version": "3.8.6"
  }
 },
 "nbformat": 4,
 "nbformat_minor": 4
}
