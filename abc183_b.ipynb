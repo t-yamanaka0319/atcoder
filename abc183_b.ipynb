{
 "cells": [
  {
   "cell_type": "code",
   "execution_count": 4,
   "metadata": {},
   "outputs": [
    {
     "name": "stdin",
     "output_type": "stream",
     "text": [
      " -9 99 -999 9999\n"
     ]
    },
    {
     "name": "stdout",
     "output_type": "stream",
     "text": [
      "-18.705882352941178\n"
     ]
    }
   ],
   "source": [
    "# 入力を受ける\n",
    "S_x,S_y,G_x,G_y = map(int, input().split())\n",
    "\n",
    "# G_yを反転させる\n",
    "G_y = G_y * -1\n",
    "\n",
    "# S,Gの座標から1次関数を作る\n",
    "a = (G_y - S_y)/(G_x -S_x)\n",
    "b = S_y -a*S_x\n",
    "\n",
    "# x軸上の座標を求める\n",
    "x = (-b)/a\n",
    "\n",
    "# 出力する\n",
    "print(x)"
   ]
  },
  {
   "cell_type": "code",
   "execution_count": null,
   "metadata": {},
   "outputs": [],
   "source": []
  },
  {
   "cell_type": "code",
   "execution_count": null,
   "metadata": {},
   "outputs": [],
   "source": []
  }
 ],
 "metadata": {
  "kernelspec": {
   "display_name": "Python 3",
   "language": "python",
   "name": "python3"
  },
  "language_info": {
   "codemirror_mode": {
    "name": "ipython",
    "version": 3
   },
   "file_extension": ".py",
   "mimetype": "text/x-python",
   "name": "python",
   "nbconvert_exporter": "python",
   "pygments_lexer": "ipython3",
   "version": "3.8.6"
  }
 },
 "nbformat": 4,
 "nbformat_minor": 4
}
