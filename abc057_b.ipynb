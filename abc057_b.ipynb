{
 "cells": [
  {
   "cell_type": "code",
   "execution_count": 1,
   "metadata": {},
   "outputs": [
    {
     "name": "stdin",
     "output_type": "stream",
     "text": [
      " 2 2\n",
      " 2 0\n",
      " 0 0\n",
      " -1 0\n",
      " 1 0\n"
     ]
    },
    {
     "name": "stdout",
     "output_type": "stream",
     "text": [
      "2\n",
      "1\n"
     ]
    }
   ],
   "source": [
    "# 入力を取得する\n",
    "N,M = map(int, input().split())\n",
    "students = [list(map(int, input().split())) for i in range(N) ]\n",
    "check_points = [list(map(int, input().split())) for i in range(M) ]\n",
    " \n",
    "# 各学生に関して、一番近いチェックポイントを出力する\n",
    "from math import inf\n",
    "for student in students:\n",
    "  # 一番近いチェックポイントを保持する\n",
    "  nearest = (0, inf)\n",
    "  for index, check_point in enumerate(check_points, 1):\n",
    "    # 距離を算出し、一番近いチェックポイントを更新する\n",
    "    distance = abs(student[0] - check_point[0]) + abs(student[1] - check_point[1])\n",
    "    if distance < nearest[1]:\n",
    "      nearest = (index, distance)\n",
    "  # 出力する\n",
    "  print(nearest[0])"
   ]
  },
  {
   "cell_type": "code",
   "execution_count": null,
   "metadata": {},
   "outputs": [],
   "source": []
  }
 ],
 "metadata": {
  "kernelspec": {
   "display_name": "Python 3",
   "language": "python",
   "name": "python3"
  },
  "language_info": {
   "codemirror_mode": {
    "name": "ipython",
    "version": 3
   },
   "file_extension": ".py",
   "mimetype": "text/x-python",
   "name": "python",
   "nbconvert_exporter": "python",
   "pygments_lexer": "ipython3",
   "version": "3.8.5"
  }
 },
 "nbformat": 4,
 "nbformat_minor": 4
}
