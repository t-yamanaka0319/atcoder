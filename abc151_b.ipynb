{
 "cells": [
  {
   "cell_type": "code",
   "execution_count": 10,
   "metadata": {},
   "outputs": [
    {
     "name": "stdin",
     "output_type": "stream",
     "text": [
      " 4 100 60\n",
      " 0 0 0\n"
     ]
    },
    {
     "name": "stdout",
     "output_type": "stream",
     "text": [
      "-1\n"
     ]
    }
   ],
   "source": [
    "import copy\n",
    "import numpy as np\n",
    "\n",
    "N,K,M = map(int, input().split())\n",
    "A = list(map(int, input().split()))\n",
    "\n",
    "A_check = copy.deepcopy(A)\n",
    "A_check.append(K)\n",
    "\n",
    "if np.average(A_check) < M:\n",
    "    print(-1)\n",
    "else:\n",
    "    for i in range(K+1):\n",
    "        A_check = copy.deepcopy(A)\n",
    "        A_check.append(i)\n",
    "        if np.average(A_check) >= M:\n",
    "            print(i)\n",
    "            break"
   ]
  },
  {
   "cell_type": "code",
   "execution_count": null,
   "metadata": {},
   "outputs": [],
   "source": []
  }
 ],
 "metadata": {
  "kernelspec": {
   "display_name": "Python 3",
   "language": "python",
   "name": "python3"
  },
  "language_info": {
   "codemirror_mode": {
    "name": "ipython",
    "version": 3
   },
   "file_extension": ".py",
   "mimetype": "text/x-python",
   "name": "python",
   "nbconvert_exporter": "python",
   "pygments_lexer": "ipython3",
   "version": "3.8.6"
  }
 },
 "nbformat": 4,
 "nbformat_minor": 4
}
