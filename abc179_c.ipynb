{
 "cells": [
  {
   "cell_type": "code",
   "execution_count": 1,
   "metadata": {},
   "outputs": [
    {
     "name": "stdin",
     "output_type": "stream",
     "text": [
      " 100\n"
     ]
    },
    {
     "name": "stdout",
     "output_type": "stream",
     "text": [
      "473\n"
     ]
    }
   ],
   "source": [
    "# Nを取得\n",
    "N = int(input())\n",
    " \n",
    "# A, Bを2重ループとして、A*B <= Nを満たすならN - A*BによりCを求めて、A, B, Cの組みを出す\n",
    "# もし、A*B > Nとなった場合、ループを抜ける\n",
    "ret = 0\n",
    "counter = 0\n",
    "for A in range(1, N+1):\n",
    "    for B in range(A, N+1):\n",
    "        if A * B < N:\n",
    "            if A == B:\n",
    "                counter += 1\n",
    "            ret += 1\n",
    "        else:\n",
    "            break\n",
    "print(ret*2 - counter)"
   ]
  },
  {
   "cell_type": "code",
   "execution_count": null,
   "metadata": {},
   "outputs": [],
   "source": []
  }
 ],
 "metadata": {
  "kernelspec": {
   "display_name": "Python 3",
   "language": "python",
   "name": "python3"
  },
  "language_info": {
   "codemirror_mode": {
    "name": "ipython",
    "version": 3
   },
   "file_extension": ".py",
   "mimetype": "text/x-python",
   "name": "python",
   "nbconvert_exporter": "python",
   "pygments_lexer": "ipython3",
   "version": "3.8.6"
  }
 },
 "nbformat": 4,
 "nbformat_minor": 4
}
