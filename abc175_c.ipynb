{
 "cells": [
  {
   "cell_type": "code",
   "execution_count": 39,
   "metadata": {},
   "outputs": [
    {
     "name": "stdin",
     "output_type": "stream",
     "text": [
      " 7 4 3\n"
     ]
    },
    {
     "name": "stdout",
     "output_type": "stream",
     "text": [
      "1\n"
     ]
    }
   ],
   "source": [
    "X,K,D = map(int, input().split())\n",
    "\n",
    "if abs(X) - (D*K) >= 0:\n",
    "    print(abs(X) - (D*K))\n",
    "else:\n",
    "    cnt = (abs(X)//D)\n",
    "    if (K - cnt) % 2 == 0:\n",
    "        print(abs(abs(X) - (D*cnt)))\n",
    "    else:\n",
    "        print(abs(abs(X) - ((D*cnt) + D)))"
   ]
  },
  {
   "cell_type": "code",
   "execution_count": 38,
   "metadata": {},
   "outputs": [
    {
     "name": "stdin",
     "output_type": "stream",
     "text": [
      " 7 4 3\n"
     ]
    },
    {
     "name": "stdout",
     "output_type": "stream",
     "text": [
      "1\n"
     ]
    }
   ],
   "source": [
    "X, K, D = map(int, input().split())\n",
    " \n",
    "X = abs(X)\n",
    "# 0を下回るまでの回数cnt\n",
    "cnt = X//D\n",
    " \n",
    "if cnt >= K:\n",
    "    ans = X - (K*D)\n",
    "else:\n",
    "    # つまり動ける回数が余っている\n",
    "    # K-cnt\n",
    "    if (K-cnt) % 2 == 0:\n",
    "        ans = X - (cnt*D)\n",
    "    else:\n",
    "        ans = X - ((cnt+1)*D)\n",
    "        \n",
    "print(abs(ans))"
   ]
  },
  {
   "cell_type": "code",
   "execution_count": null,
   "metadata": {},
   "outputs": [],
   "source": []
  },
  {
   "cell_type": "code",
   "execution_count": null,
   "metadata": {},
   "outputs": [],
   "source": []
  }
 ],
 "metadata": {
  "kernelspec": {
   "display_name": "Python 3",
   "language": "python",
   "name": "python3"
  },
  "language_info": {
   "codemirror_mode": {
    "name": "ipython",
    "version": 3
   },
   "file_extension": ".py",
   "mimetype": "text/x-python",
   "name": "python",
   "nbconvert_exporter": "python",
   "pygments_lexer": "ipython3",
   "version": "3.8.6"
  }
 },
 "nbformat": 4,
 "nbformat_minor": 4
}
