{
 "cells": [
  {
   "cell_type": "code",
   "execution_count": 23,
   "metadata": {},
   "outputs": [
    {
     "name": "stdin",
     "output_type": "stream",
     "text": [
      " 6 0\n"
     ]
    },
    {
     "name": "stdout",
     "output_type": "stream",
     "text": [
      "0 0\n"
     ]
    }
   ],
   "source": [
    "N,M = map(int, input().split())\n",
    "ps = [list(input().split()) for _ in range(M)]\n",
    "\n",
    "ac_cnt = 0\n",
    "wa_cnt = 0\n",
    "wa_before_cnt = 0\n",
    "now = 0\n",
    "ac_flg = False\n",
    "if M == 0:\n",
    "    print(ac_cnt,wa_cnt)\n",
    "else:\n",
    "    for i in range(M):\n",
    "        if now != int(ps[i][0]):\n",
    "            ac_flg = False\n",
    "            if ac_cnt != 0:\n",
    "                wa_cnt += wa_before_cnt \n",
    "            wa_before_cnt = 0\n",
    "            now = int(ps[i][0])\n",
    "            \n",
    "        if ps[i][1] == 'WA' and not ac_flg:\n",
    "            wa_before_cnt += 1\n",
    "        elif ps[i][1] == 'AC' and not ac_flg:\n",
    "            ac_flg = True\n",
    "            ac_cnt += 1\n",
    "            \n",
    "        if i == M-1:\n",
    "            if ac_cnt != 0:\n",
    "                wa_cnt += wa_before_cnt \n",
    "            \n",
    "    print(ac_cnt, wa_cnt) "
   ]
  },
  {
   "cell_type": "code",
   "execution_count": 5,
   "metadata": {},
   "outputs": [
    {
     "data": {
      "text/plain": [
       "[['1', 'WA'], ['1', 'AC'], ['2', 'WA'], ['2', 'AC'], ['2', 'WA']]"
      ]
     },
     "execution_count": 5,
     "metadata": {},
     "output_type": "execute_result"
    }
   ],
   "source": [
    "ps"
   ]
  },
  {
   "cell_type": "code",
   "execution_count": null,
   "metadata": {},
   "outputs": [],
   "source": []
  }
 ],
 "metadata": {
  "kernelspec": {
   "display_name": "Python 3",
   "language": "python",
   "name": "python3"
  },
  "language_info": {
   "codemirror_mode": {
    "name": "ipython",
    "version": 3
   },
   "file_extension": ".py",
   "mimetype": "text/x-python",
   "name": "python",
   "nbconvert_exporter": "python",
   "pygments_lexer": "ipython3",
   "version": "3.8.6"
  }
 },
 "nbformat": 4,
 "nbformat_minor": 4
}
