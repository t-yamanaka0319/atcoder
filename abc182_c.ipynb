{
 "cells": [
  {
   "cell_type": "code",
   "execution_count": 43,
   "metadata": {},
   "outputs": [
    {
     "name": "stdin",
     "output_type": "stream",
     "text": [
      " 11\n"
     ]
    },
    {
     "name": "stdout",
     "output_type": "stream",
     "text": [
      "-1\n"
     ]
    }
   ],
   "source": [
    "# 入力を受ける\n",
    "N = list(map(int, input()))\n",
    "K = len(N)\n",
    "\n",
    "# Nの合計値と結果を定義する\n",
    "sum_N = sum(N)\n",
    "ret = 0\n",
    "# 余りがあるかで条件分けをする\n",
    "if sum_N % 3 == 0:\n",
    "    print(ret)\n",
    "# 余りが0でない1桁の数字であるか判定する\n",
    "elif len(N) == 1:\n",
    "    ret = -1\n",
    "    print(ret)\n",
    "else:\n",
    "    # 余りが1,2で条件分けをする\n",
    "    mod_N = sum_N % 3\n",
    "    if mod_N == 2:\n",
    "        mod_flg = False\n",
    "        # Nの各数値に余りが2のものがあるか判定する\n",
    "        for i in range(K):\n",
    "            if N[i] % 3 == 2:\n",
    "                mod_flg = True\n",
    "                break\n",
    "        if mod_flg:\n",
    "            ret = 1\n",
    "        else:\n",
    "            # Nの各数値に余りが1のものが2個以上あるか判定する\n",
    "            count = 0\n",
    "            for j in range(K):\n",
    "                if N[j] % 3 == 1:\n",
    "                    count += 1\n",
    "            # 桁数:K未満でなければならない\n",
    "            if count >= 2 and 2 < K:\n",
    "                ret = 2\n",
    "            else:\n",
    "                ret = -1\n",
    "    # 余りが0の時を省いているので、elseとする -> mod == 1\n",
    "    else:\n",
    "        mod_flg = False\n",
    "        # Nの各数値に余りが1のものがあるか判定する\n",
    "        for i in range(K):\n",
    "            if N[i] % 3 == 1:\n",
    "                mod_flg = True\n",
    "                break\n",
    "        if mod_flg:\n",
    "            ret = 1\n",
    "        else:\n",
    "            # Nの各数値に余りが2のものが2個以上あるか判定する\n",
    "            count = 0\n",
    "            for j in range(K):\n",
    "                if N[j] % 3 == 2:\n",
    "                    count += 1\n",
    "            # 桁数:K未満でなければならない\n",
    "            if count >= 2 and 2 < K:\n",
    "                ret = 2\n",
    "            else:\n",
    "                ret = -1\n",
    "    print(ret)"
   ]
  },
  {
   "cell_type": "code",
   "execution_count": 44,
   "metadata": {},
   "outputs": [
    {
     "name": "stdin",
     "output_type": "stream",
     "text": [
      " 322\n"
     ]
    },
    {
     "name": "stdout",
     "output_type": "stream",
     "text": [
      "2\n"
     ]
    }
   ],
   "source": [
    "# 入力を受ける\n",
    "N = list(map(int, input()))\n",
    "K = len(N)\n",
    "\n",
    "# Nの合計値と結果を定義する\n",
    "sum_N = sum(N)\n",
    "ret = 0\n",
    "# 余りがあるかで条件分けをする\n",
    "if sum_N % 3 == 0:\n",
    "    print(ret)\n",
    "# 余りが0でない1桁の数字であるか判定する\n",
    "elif len(N) == 1:\n",
    "    ret = -1\n",
    "    print(ret)\n",
    "else:\n",
    "    # 余りが1,2で条件分けをする\n",
    "    mod_N = sum_N % 3\n",
    "    mod_flg = False\n",
    "    # Nの各数値に余りが2のものがあるか判定する\n",
    "    for i in range(K):\n",
    "        if N[i] % 3 == mod_N:\n",
    "            mod_flg = True\n",
    "            break\n",
    "    if mod_flg:\n",
    "        ret = 1\n",
    "    else:\n",
    "        # Nの各数値に余りが1のものが2個以上あるか判定する\n",
    "        count = 0\n",
    "        for j in range(K):\n",
    "            if N[j] % 3 == (1 if mod_N == 2 else 2):\n",
    "                count += 1\n",
    "        # 桁数:K未満でなければならない\n",
    "        if count >= 2 and 2 < K:\n",
    "            ret = 2\n",
    "        else:\n",
    "            ret = -1\n",
    "    print(ret)"
   ]
  },
  {
   "cell_type": "code",
   "execution_count": 30,
   "metadata": {},
   "outputs": [
    {
     "name": "stdout",
     "output_type": "stream",
     "text": [
      "21\n",
      "12\n"
     ]
    }
   ],
   "source": [
    "count = 121\n",
    "for j in range(len(str(count))):\n",
    "                n = str(count)\n",
    "                n = n[:j]+n[j+1:]\n",
    "                if int(n) % 3 == 0:\n",
    "                    print(n)"
   ]
  },
  {
   "cell_type": "code",
   "execution_count": null,
   "metadata": {},
   "outputs": [],
   "source": []
  }
 ],
 "metadata": {
  "kernelspec": {
   "display_name": "Python 3",
   "language": "python",
   "name": "python3"
  },
  "language_info": {
   "codemirror_mode": {
    "name": "ipython",
    "version": 3
   },
   "file_extension": ".py",
   "mimetype": "text/x-python",
   "name": "python",
   "nbconvert_exporter": "python",
   "pygments_lexer": "ipython3",
   "version": "3.8.6"
  }
 },
 "nbformat": 4,
 "nbformat_minor": 4
}
