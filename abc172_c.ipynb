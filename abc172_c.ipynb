{
 "cells": [
  {
   "cell_type": "code",
   "execution_count": 13,
   "metadata": {},
   "outputs": [
    {
     "name": "stdin",
     "output_type": "stream",
     "text": [
      " 475256\n"
     ]
    },
    {
     "name": "stdout",
     "output_type": "stream",
     "text": [
      "aaaab"
     ]
    }
   ],
   "source": [
    "# Nを受け取る\n",
    "N = int(input())\n",
    "\n",
    "# Nが26の何乗か、N番目の文字列の長さを取得する\n",
    "i = 1\n",
    "start = 0\n",
    "while True:\n",
    "    start += 26**(i-1)\n",
    "    end = start + 26**i -1\n",
    "    \n",
    "    if start <= N <= end:\n",
    "        keta = i\n",
    "        break\n",
    "    i += 1\n",
    "\n",
    "# Nが何番目か取得する\n",
    "num = N - start\n",
    "\n",
    "# 26進数で表示する\n",
    "ret = [0 for j in range(keta)]\n",
    "\n",
    "for i in range(1, keta+1):\n",
    "    j = num//(26**(keta-i))\n",
    "    ret[i-1] = j\n",
    "    num -= j*(26**(keta-i))\n",
    "\n",
    "# Nの文字列に変換する、ascii\n",
    "for r in ret:\n",
    "    print(chr(97+r), end='')"
   ]
  },
  {
   "cell_type": "code",
   "execution_count": 21,
   "metadata": {},
   "outputs": [
    {
     "name": "stdin",
     "output_type": "stream",
     "text": [
      " 26\n"
     ]
    },
    {
     "name": "stdout",
     "output_type": "stream",
     "text": [
      "\n"
     ]
    }
   ],
   "source": [
    "N = int(input())\n",
    "\n",
    "chars = [chr(i) for i in range(97, 122+1)]\n",
    "ans = ''\n",
    "while N > 26:\n",
    "    if N % 26 != 0:\n",
    "        ans = chars[(N % 26) -1] + ans\n",
    "    N = N // 26\n",
    "    \n",
    "    ans = chars[N - 1] + ans\n",
    "print(ans)"
   ]
  },
  {
   "cell_type": "code",
   "execution_count": 20,
   "metadata": {},
   "outputs": [
    {
     "data": {
      "text/plain": [
       "['a',\n",
       " 'b',\n",
       " 'c',\n",
       " 'd',\n",
       " 'e',\n",
       " 'f',\n",
       " 'g',\n",
       " 'h',\n",
       " 'i',\n",
       " 'j',\n",
       " 'k',\n",
       " 'l',\n",
       " 'm',\n",
       " 'n',\n",
       " 'o',\n",
       " 'p',\n",
       " 'q',\n",
       " 'r',\n",
       " 's',\n",
       " 't',\n",
       " 'u',\n",
       " 'v',\n",
       " 'w',\n",
       " 'x',\n",
       " 'y',\n",
       " 'z']"
      ]
     },
     "execution_count": 20,
     "metadata": {},
     "output_type": "execute_result"
    }
   ],
   "source": [
    "chars"
   ]
  },
  {
   "cell_type": "code",
   "execution_count": 5,
   "metadata": {},
   "outputs": [
    {
     "data": {
      "text/plain": [
       "475255"
      ]
     },
     "execution_count": 5,
     "metadata": {},
     "output_type": "execute_result"
    }
   ],
   "source": [
    "start"
   ]
  },
  {
   "cell_type": "code",
   "execution_count": null,
   "metadata": {},
   "outputs": [],
   "source": []
  }
 ],
 "metadata": {
  "kernelspec": {
   "display_name": "Python 3",
   "language": "python",
   "name": "python3"
  },
  "language_info": {
   "codemirror_mode": {
    "name": "ipython",
    "version": 3
   },
   "file_extension": ".py",
   "mimetype": "text/x-python",
   "name": "python",
   "nbconvert_exporter": "python",
   "pygments_lexer": "ipython3",
   "version": "3.8.6"
  }
 },
 "nbformat": 4,
 "nbformat_minor": 4
}
