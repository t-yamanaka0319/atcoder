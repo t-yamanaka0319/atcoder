{
 "cells": [
  {
   "cell_type": "code",
   "execution_count": 12,
   "metadata": {},
   "outputs": [
    {
     "name": "stdin",
     "output_type": "stream",
     "text": [
      " 36\n"
     ]
    },
    {
     "name": "stdout",
     "output_type": "stream",
     "text": [
      "1\n",
      "2\n",
      "3\n",
      "4\n",
      "6\n",
      "9\n",
      "12\n",
      "18\n",
      "36\n"
     ]
    }
   ],
   "source": [
    "import math\n",
    "\n",
    "# Nを受け取る\n",
    "N = int(input())\n",
    "\n",
    "# Nの約数を出力する\n",
    "num = []\n",
    "for i in range(1,int(math.sqrt(N))+1):\n",
    "    if N % i == 0:\n",
    "        num.extend([i, N//i] if i != N//i else [i])\n",
    "    \n",
    "print('\\n'.join(map(str, sorted(num))))"
   ]
  },
  {
   "cell_type": "code",
   "execution_count": 15,
   "metadata": {},
   "outputs": [
    {
     "name": "stdin",
     "output_type": "stream",
     "text": [
      " 100000007\n"
     ]
    },
    {
     "name": "stdout",
     "output_type": "stream",
     "text": [
      "1\n",
      "100000007\n"
     ]
    }
   ],
   "source": [
    "# Nを受け取る\n",
    "N = int(input())\n",
    "\n",
    "# Nの約数を出力する\n",
    "divisors = []\n",
    "for i in range(1, int(N**0.5)+1):\n",
    "    if N % i == 0:\n",
    "        divisors.append(i)\n",
    "        if i != N // i:\n",
    "            divisors.append(N//i)\n",
    "    \n",
    "print('\\n'.join(map(str, sorted(divisors))))"
   ]
  },
  {
   "cell_type": "code",
   "execution_count": 16,
   "metadata": {},
   "outputs": [
    {
     "name": "stdin",
     "output_type": "stream",
     "text": [
      " 36\n"
     ]
    },
    {
     "name": "stdout",
     "output_type": "stream",
     "text": [
      "1\n",
      "2\n",
      "3\n",
      "4\n",
      "6\n",
      "9\n",
      "12\n",
      "18\n",
      "36\n"
     ]
    }
   ],
   "source": [
    "# Nを受け取る\n",
    "N = int(input())\n",
    "\n",
    "# Nの約数を出力する\n",
    "divisors = []\n",
    "for i in range(1, int(N**0.5)+1):\n",
    "    if N % i == 0:\n",
    "        divisors.extend([i, N//i] if i != N//i else [i])\n",
    "    \n",
    "print('\\n'.join(map(str, sorted(divisors))))"
   ]
  },
  {
   "cell_type": "code",
   "execution_count": 18,
   "metadata": {},
   "outputs": [
    {
     "name": "stdin",
     "output_type": "stream",
     "text": [
      " 100000007\n"
     ]
    },
    {
     "name": "stdout",
     "output_type": "stream",
     "text": [
      "1\n",
      "100000007\n"
     ]
    }
   ],
   "source": [
    "# いつか解読する\n",
    "def gcd(a, b):\n",
    "    while b: a, b = b, a % b\n",
    "    return a\n",
    "def isPrimeMR(n):\n",
    "    d = n - 1\n",
    "    d = d // (d & -d)\n",
    "    L = [2, 7, 61] if n < 1<<32 else [2, 3, 5, 7, 11, 13, 17] if n < 1<<48 else [2, 3, 5, 7, 11, 13, 17, 19, 23, 29, 31, 37]\n",
    "    for a in L:\n",
    "        t = d\n",
    "        y = pow(a, t, n)\n",
    "        if y == 1: continue\n",
    "        while y != n - 1:\n",
    "            y = y * y % n\n",
    "            if y == 1 or t == n - 1: return 0\n",
    "            t <<= 1\n",
    "    return 1\n",
    "def findFactorRho(n):\n",
    "    m = 1 << n.bit_length() // 8\n",
    "    for c in range(1, 99):\n",
    "        f = lambda x: (x * x + c) % n\n",
    "        y, r, q, g = 2, 1, 1, 1\n",
    "        while g == 1:\n",
    "            x = y\n",
    "            for i in range(r):\n",
    "                y = f(y)\n",
    "            k = 0\n",
    "            while k < r and g == 1:\n",
    "                ys = y\n",
    "                for i in range(min(m, r - k)):\n",
    "                    y = f(y)\n",
    "                    q = q * abs(x - y) % n\n",
    "                g = gcd(q, n)\n",
    "                k += m\n",
    "            r <<= 1\n",
    "        if g == n:\n",
    "            g = 1\n",
    "            while g == 1:\n",
    "                ys = f(ys)\n",
    "                g = gcd(abs(x - ys), n)\n",
    "        if g < n:\n",
    "            if isPrimeMR(g): return g\n",
    "            elif isPrimeMR(n // g): return n // g\n",
    "            return findFactorRho(g)\n",
    "def primeFactor(n):\n",
    "    i = 2\n",
    "    ret = {}\n",
    "    rhoFlg = 0\n",
    "    while i * i <= n:\n",
    "        k = 0\n",
    "        while n % i == 0:\n",
    "            n //= i\n",
    "            k += 1\n",
    "        if k: ret[i] = k\n",
    "        i += i % 2 + (3 if i % 3 == 1 else 1)\n",
    "        if i == 101 and n >= 2 ** 20:\n",
    "            while n > 1:\n",
    "                if isPrimeMR(n):\n",
    "                    ret[n], n = 1, 1\n",
    "                else:\n",
    "                    rhoFlg = 1\n",
    "                    j = findFactorRho(n)\n",
    "                    k = 0\n",
    "                    while n % j == 0:\n",
    "                        n //= j\n",
    "                        k += 1\n",
    "                    ret[j] = k\n",
    " \n",
    "    if n > 1: ret[n] = 1\n",
    "    if rhoFlg: ret = {x: ret[x] for x in sorted(ret)}\n",
    "    return ret\n",
    " \n",
    "def divisors(N):\n",
    "    pf = primeFactor(N)\n",
    "    ret = [1]\n",
    "    for p in pf:\n",
    "        ret_prev = ret\n",
    "        ret = []\n",
    "        for i in range(pf[p]+1):\n",
    "            for r in ret_prev:\n",
    "                ret.append(r * (p ** i))\n",
    "    return sorted(ret)\n",
    " \n",
    "for d in divisors(int(input())):\n",
    "    print(d)"
   ]
  },
  {
   "cell_type": "code",
   "execution_count": null,
   "metadata": {},
   "outputs": [],
   "source": []
  }
 ],
 "metadata": {
  "kernelspec": {
   "display_name": "Python 3",
   "language": "python",
   "name": "python3"
  },
  "language_info": {
   "codemirror_mode": {
    "name": "ipython",
    "version": 3
   },
   "file_extension": ".py",
   "mimetype": "text/x-python",
   "name": "python",
   "nbconvert_exporter": "python",
   "pygments_lexer": "ipython3",
   "version": "3.8.6"
  }
 },
 "nbformat": 4,
 "nbformat_minor": 4
}
