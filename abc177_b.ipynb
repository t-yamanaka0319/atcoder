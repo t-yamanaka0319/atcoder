{
 "cells": [
  {
   "cell_type": "code",
   "execution_count": 58,
   "metadata": {},
   "outputs": [
    {
     "name": "stdout",
     "output_type": "stream",
     "text": [
      "6\n"
     ]
    }
   ],
   "source": [
    "s = input()\n",
    "t = input()\n",
    "# s = 'codeforces'\n",
    "# t = 'atcoder'\n",
    "n = len(s)\n",
    "m = len(t)\n",
    " \n",
    "max_cnt = 0\n",
    "# sとtの差分ループする\n",
    "for i in range(n - m + 1):\n",
    "    cnt = 0\n",
    "    for j in range(m):\n",
    "        # sの各スタート位置からtとそれぞれ一致している位置をカウントする\n",
    "        if s[i+j] == t[j]:\n",
    "            cnt += 1\n",
    "#         print('s:' + s[i+j])\n",
    "#         print('t:' + t[j])\n",
    "    if max_cnt < cnt:\n",
    "        max_cnt = cnt\n",
    " \n",
    "print(m-max_cnt)"
   ]
  },
  {
   "cell_type": "code",
   "execution_count": null,
   "metadata": {},
   "outputs": [],
   "source": []
  }
 ],
 "metadata": {
  "kernelspec": {
   "display_name": "Python 3",
   "language": "python",
   "name": "python3"
  },
  "language_info": {
   "codemirror_mode": {
    "name": "ipython",
    "version": 3
   },
   "file_extension": ".py",
   "mimetype": "text/x-python",
   "name": "python",
   "nbconvert_exporter": "python",
   "pygments_lexer": "ipython3",
   "version": "3.8.6"
  }
 },
 "nbformat": 4,
 "nbformat_minor": 4
}
