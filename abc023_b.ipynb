{
 "cells": [
  {
   "cell_type": "code",
   "execution_count": 14,
   "metadata": {},
   "outputs": [
    {
     "name": "stdin",
     "output_type": "stream",
     "text": [
      " 1\n",
      " b\n"
     ]
    },
    {
     "name": "stdout",
     "output_type": "stream",
     "text": [
      "0\n"
     ]
    }
   ],
   "source": [
    "# N,Sを受け取る\n",
    "N = int(input())\n",
    "S = input()\n",
    "\n",
    "# 文字列（アクセサリー）を作成する、何回めの手順かを保持する\n",
    "acsr = 'b'\n",
    "for i in range(1, N//2+1):\n",
    "    mod = i % 3\n",
    "    if mod == 1:\n",
    "        acsr = 'a'+acsr+'c'\n",
    "    elif mod == 2:\n",
    "        acsr = 'c'+acsr+'a'\n",
    "    elif mod == 0:\n",
    "        acsr = 'b'+acsr+'b'\n",
    "\n",
    "# 作成した文字列とS一致しているか確認し、出力する\n",
    "print(N//2 if S == acsr else -1)"
   ]
  },
  {
   "cell_type": "code",
   "execution_count": null,
   "metadata": {},
   "outputs": [],
   "source": []
  }
 ],
 "metadata": {
  "kernelspec": {
   "display_name": "Python 3",
   "language": "python",
   "name": "python3"
  },
  "language_info": {
   "codemirror_mode": {
    "name": "ipython",
    "version": 3
   },
   "file_extension": ".py",
   "mimetype": "text/x-python",
   "name": "python",
   "nbconvert_exporter": "python",
   "pygments_lexer": "ipython3",
   "version": "3.8.5"
  }
 },
 "nbformat": 4,
 "nbformat_minor": 4
}
