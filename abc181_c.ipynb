{
 "cells": [
  {
   "cell_type": "code",
   "execution_count": 31,
   "metadata": {},
   "outputs": [
    {
     "name": "stdin",
     "output_type": "stream",
     "text": [
      " 14\n",
      " 5 5\n",
      " 0 1\n",
      " 2 5\n",
      " 8 0\n",
      " 2 1\n",
      " 0 0\n",
      " 3 6\n",
      " 8 6\n",
      " 5 9\n",
      " 7 9\n",
      " 3 4\n",
      " 9 2\n",
      " 9 8\n",
      " 7 2\n"
     ]
    },
    {
     "name": "stdout",
     "output_type": "stream",
     "text": [
      "Yes\n"
     ]
    }
   ],
   "source": [
    "N = int(input())\n",
    "xy = [list(map(int, input().split())) for _ in range(N)]\n",
    "\n",
    "res = 'No'\n",
    "for i in range(N-2):\n",
    "    for j in range(i+1, N-1):\n",
    "        a1 = (xy[j][1]-xy[i][1])\n",
    "        a2 = (xy[j][0]-xy[i][0])\n",
    "        a = a1 // a2 if a1 != 0 and a2 != 0 else 0\n",
    "        b = (-xy[i][0]*a) + xy[i][1]\n",
    "        for k in range(j+1, N):\n",
    "            if xy[k][1] == (a*xy[k][0])+b:\n",
    "                res = 'Yes'\n",
    "print(res)"
   ]
  },
  {
   "cell_type": "code",
   "execution_count": 51,
   "metadata": {},
   "outputs": [
    {
     "name": "stdin",
     "output_type": "stream",
     "text": [
      " 4\n",
      " 0 1\n",
      " 0 2\n",
      " 3 3\n",
      " 4 4\n"
     ]
    },
    {
     "name": "stdout",
     "output_type": "stream",
     "text": [
      "No\n"
     ]
    }
   ],
   "source": [
    "# 正解\n",
    "N = int(input())\n",
    "xy = [list(map(int, input().split())) for _ in range(N)]\n",
    "\n",
    "res = 'No'\n",
    "for i in range(N-2):\n",
    "    for j in range(i+1, N-1):\n",
    "        for k in range(j+1, N):\n",
    "            if xy[j][1] == xy[i][1]:\n",
    "                if xy[k][1] == xy[j][1]:\n",
    "                    res = 'Yes'\n",
    "            elif xy[j][0] == xy[i][0]:\n",
    "                if xy[k][0] == xy[j][0]:\n",
    "                    res = 'Yes'\n",
    "            else:                \n",
    "                if (xy[k][1]-xy[i][1])*(xy[j][0]-xy[i][0]) == ((xy[j][1]-xy[i][1])*xy[k][0])-(xy[i][0]*((xy[j][1]-xy[i][1]))):\n",
    "                    res = 'Yes'\n",
    "#             if res == 'Yes':\n",
    "#                 break\n",
    "#         if res == 'Yes':\n",
    "#             break\n",
    "#     if res == 'Yes':\n",
    "#         break\n",
    "                \n",
    "print(res)"
   ]
  },
  {
   "cell_type": "code",
   "execution_count": null,
   "metadata": {},
   "outputs": [],
   "source": []
  }
 ],
 "metadata": {
  "kernelspec": {
   "display_name": "Python 3",
   "language": "python",
   "name": "python3"
  },
  "language_info": {
   "codemirror_mode": {
    "name": "ipython",
    "version": 3
   },
   "file_extension": ".py",
   "mimetype": "text/x-python",
   "name": "python",
   "nbconvert_exporter": "python",
   "pygments_lexer": "ipython3",
   "version": "3.8.6"
  }
 },
 "nbformat": 4,
 "nbformat_minor": 4
}
