{
 "cells": [
  {
   "cell_type": "code",
   "execution_count": 29,
   "metadata": {},
   "outputs": [
    {
     "name": "stdin",
     "output_type": "stream",
     "text": [
      " 29\n",
      " 20\n",
      " 7\n",
      " 35\n",
      " 120\n"
     ]
    },
    {
     "name": "stdout",
     "output_type": "stream",
     "text": [
      "[20, 120, 29, 7, 35]\n",
      "215\n"
     ]
    }
   ],
   "source": [
    "menu = [int(input()) for _ in range(5)]\n",
    "\n",
    "def BubbleSort(num):\n",
    "    for i in range(len(num)):\n",
    "        for j in range(len(num)-1, i, -1):\n",
    "            before = 10-(num[j-1]%10) if num[j-1]%10 != 0 else num[j-1]%10\n",
    "            after = 10-(num[j]%10) if num[j]%10 != 0 else num[j]%10\n",
    "            if after < before:\n",
    "                num[j], num[j-1] = num[j-1], num[j]\n",
    "                \n",
    "    return num\n",
    "\n",
    "sorted_menu = BubbleSort(menu)\n",
    "\n",
    "dish_time = 0\n",
    "for i in range(5):\n",
    "    if sorted_menu[i]%10 != 0 and i != 4:\n",
    "        dish_time += (sorted_menu[i] + (10-(sorted_menu[i]%10)))\n",
    "    else:\n",
    "        dish_time += sorted_menu[i]\n",
    "    \n",
    "print(dish_time)"
   ]
  },
  {
   "cell_type": "code",
   "execution_count": 2,
   "metadata": {},
   "outputs": [
    {
     "data": {
      "text/plain": [
       "[1, 2, 3, 4, 5]"
      ]
     },
     "execution_count": 2,
     "metadata": {},
     "output_type": "execute_result"
    }
   ],
   "source": [
    "\n"
   ]
  },
  {
   "cell_type": "code",
   "execution_count": null,
   "metadata": {},
   "outputs": [],
   "source": []
  }
 ],
 "metadata": {
  "kernelspec": {
   "display_name": "Python 3",
   "language": "python",
   "name": "python3"
  },
  "language_info": {
   "codemirror_mode": {
    "name": "ipython",
    "version": 3
   },
   "file_extension": ".py",
   "mimetype": "text/x-python",
   "name": "python",
   "nbconvert_exporter": "python",
   "pygments_lexer": "ipython3",
   "version": "3.8.6"
  }
 },
 "nbformat": 4,
 "nbformat_minor": 4
}
