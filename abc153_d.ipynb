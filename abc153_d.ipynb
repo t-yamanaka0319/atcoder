{
 "cells": [
  {
   "cell_type": "code",
   "execution_count": null,
   "metadata": {},
   "outputs": [],
   "source": [
    "H = int(input())\n",
    "count = 0\n",
    "while H <= 0:\n",
    "    X = []\n",
    "    if H//2 >=1:\n",
    "        X.appmd\n",
    "    \n",
    "        \n",
    "    \n",
    "    count += 1\n",
    "    H = X\n",
    "print(count)"
   ]
  },
  {
   "cell_type": "code",
   "execution_count": null,
   "metadata": {},
   "outputs": [],
   "source": [
    "h = int(input())\n",
    "\n",
    "def atack(h):\n",
    "    if h == 1:\n",
    "        return 1\n",
    "    else:\n",
    "        return atack(h//2) * 2 + 1\n",
    "\n",
    "print(atack(h))"
   ]
  }
 ],
 "metadata": {
  "kernelspec": {
   "display_name": "Python 3",
   "language": "python",
   "name": "python3"
  },
  "language_info": {
   "codemirror_mode": {
    "name": "ipython",
    "version": 3
   },
   "file_extension": ".py",
   "mimetype": "text/x-python",
   "name": "python",
   "nbconvert_exporter": "python",
   "pygments_lexer": "ipython3",
   "version": "3.8.6"
  }
 },
 "nbformat": 4,
 "nbformat_minor": 4
}
