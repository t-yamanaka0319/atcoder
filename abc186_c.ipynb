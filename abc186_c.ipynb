{
 "cells": [
  {
   "cell_type": "code",
   "execution_count": 24,
   "metadata": {},
   "outputs": [
    {
     "name": "stdin",
     "output_type": "stream",
     "text": [
      " 100000\n"
     ]
    },
    {
     "name": "stdout",
     "output_type": "stream",
     "text": [
      "30555\n"
     ]
    }
   ],
   "source": [
    "N = int(input())\n",
    "\n",
    "count = 0\n",
    "for i in range(1,N+1):\n",
    "    cf = True\n",
    "    str_i = str(i)\n",
    "    for j in range(len(str_i)):\n",
    "        if int(str_i[j]) == 7:\n",
    "            cf = False\n",
    "            break\n",
    "    if not cf:\n",
    "        continue\n",
    "\n",
    "    oct_i = str(oct(i))\n",
    "    oct_i = oct_i[2:]\n",
    "    for k in range(len(oct_i)):\n",
    "        if int(oct_i[k]) == 7:\n",
    "            cf = False\n",
    "            break\n",
    "    if cf:\n",
    "        count += 1\n",
    "            \n",
    "print(count) "
   ]
  },
  {
   "cell_type": "code",
   "execution_count": 23,
   "metadata": {},
   "outputs": [
    {
     "name": "stdout",
     "output_type": "stream",
     "text": [
      "0o144\n"
     ]
    }
   ],
   "source": [
    "print(oct(100))"
   ]
  },
  {
   "cell_type": "code",
   "execution_count": null,
   "metadata": {},
   "outputs": [],
   "source": []
  }
 ],
 "metadata": {
  "kernelspec": {
   "display_name": "Python 3",
   "language": "python",
   "name": "python3"
  },
  "language_info": {
   "codemirror_mode": {
    "name": "ipython",
    "version": 3
   },
   "file_extension": ".py",
   "mimetype": "text/x-python",
   "name": "python",
   "nbconvert_exporter": "python",
   "pygments_lexer": "ipython3",
   "version": "3.8.6"
  }
 },
 "nbformat": 4,
 "nbformat_minor": 4
}
