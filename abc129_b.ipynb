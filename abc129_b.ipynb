{
 "cells": [
  {
   "cell_type": "code",
   "execution_count": 16,
   "metadata": {},
   "outputs": [
    {
     "name": "stdin",
     "output_type": "stream",
     "text": [
      " 8\n",
      " 27 23 76 2 3 5 62 52\n"
     ]
    },
    {
     "name": "stdout",
     "output_type": "stream",
     "text": [
      "sum_i:27\n",
      "sum_i:50\n",
      "sum_i:126\n",
      "sum_i:128\n",
      "sum_i:131\n",
      "sum_i:136\n",
      "sum_i:198\n",
      "ams:2\n"
     ]
    }
   ],
   "source": [
    "N = int(input())\n",
    "W = list(map(int, input().split()))\n",
    "\n",
    "g = sum(W)\n",
    "\n",
    "ans = g\n",
    "for i in range(1,N):\n",
    "    sum_i = sum(W[0:i])\n",
    "    div = abs((sum_i)-(g-sum_i))\n",
    "    if ans > div:\n",
    "        ans = div\n",
    "#     print('sum_i:' + str(sum_i))\n",
    "print(ans)"
   ]
  },
  {
   "cell_type": "code",
   "execution_count": null,
   "metadata": {},
   "outputs": [],
   "source": []
  }
 ],
 "metadata": {
  "kernelspec": {
   "display_name": "Python 3",
   "language": "python",
   "name": "python3"
  },
  "language_info": {
   "codemirror_mode": {
    "name": "ipython",
    "version": 3
   },
   "file_extension": ".py",
   "mimetype": "text/x-python",
   "name": "python",
   "nbconvert_exporter": "python",
   "pygments_lexer": "ipython3",
   "version": "3.8.6"
  }
 },
 "nbformat": 4,
 "nbformat_minor": 4
}
