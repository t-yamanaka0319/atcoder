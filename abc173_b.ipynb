{
 "cells": [
  {
   "cell_type": "code",
   "execution_count": 1,
   "metadata": {},
   "outputs": [
    {
     "name": "stdin",
     "output_type": "stream",
     "text": [
      " 6\n",
      " AC\n",
      " TLE\n",
      " AC\n",
      " AC\n",
      " WA\n",
      " TLE\n"
     ]
    },
    {
     "name": "stdout",
     "output_type": "stream",
     "text": [
      "AC x 3\n",
      "WA x 1\n",
      "TLE x 2\n",
      "RE x 0\n"
     ]
    }
   ],
   "source": [
    "N = int(input())\n",
    "ac = 0\n",
    "wa = 0\n",
    "tle = 0\n",
    "re = 0\n",
    "for i in range(N):\n",
    "    s = input()\n",
    "    if s == 'AC':\n",
    "        ac += 1\n",
    "    elif s == 'WA':\n",
    "        wa += 1\n",
    "    elif s == 'TLE':\n",
    "        tle += 1\n",
    "    elif s == 'RE':\n",
    "        re += 1\n",
    "    else:\n",
    "        continue\n",
    "\n",
    "print('AC x ' + str(ac))\n",
    "print('WA x ' + str(wa))\n",
    "print('TLE x ' + str(tle))\n",
    "print('RE x ' + str(re))"
   ]
  },
  {
   "cell_type": "code",
   "execution_count": null,
   "metadata": {},
   "outputs": [],
   "source": []
  }
 ],
 "metadata": {
  "kernelspec": {
   "display_name": "Python 3",
   "language": "python",
   "name": "python3"
  },
  "language_info": {
   "codemirror_mode": {
    "name": "ipython",
    "version": 3
   },
   "file_extension": ".py",
   "mimetype": "text/x-python",
   "name": "python",
   "nbconvert_exporter": "python",
   "pygments_lexer": "ipython3",
   "version": "3.8.6"
  }
 },
 "nbformat": 4,
 "nbformat_minor": 4
}
