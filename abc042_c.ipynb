{
 "cells": [
  {
   "cell_type": "code",
   "execution_count": 20,
   "metadata": {},
   "outputs": [
    {
     "name": "stdin",
     "output_type": "stream",
     "text": [
      " 1000 8\n",
      " 1 3 4 5 6 7 8 9\n"
     ]
    },
    {
     "name": "stdout",
     "output_type": "stream",
     "text": [
      "2000\n"
     ]
    }
   ],
   "source": [
    "# N,D,Kを受ける\n",
    "N,K = map(int, input().split())\n",
    "D = list(input().split())\n",
    "\n",
    "# Nに1円ずつ足していき、嫌いな数字が含まれていないか確認する\n",
    "while True:\n",
    "    N_str = str(N)\n",
    "    \n",
    "    matched = False\n",
    "    for d in D:\n",
    "        if d in N_str:\n",
    "            matched = True\n",
    "            break\n",
    "    if not matched:\n",
    "        break\n",
    "    else:\n",
    "        N += 1\n",
    "    \n",
    "# 出力する\n",
    "print(N)"
   ]
  },
  {
   "cell_type": "code",
   "execution_count": 39,
   "metadata": {},
   "outputs": [
    {
     "ename": "IndentationError",
     "evalue": "unindent does not match any outer indentation level (<tokenize>, line 16)",
     "output_type": "error",
     "traceback": [
      "\u001b[0;36m  File \u001b[0;32m\"<tokenize>\"\u001b[0;36m, line \u001b[0;32m16\u001b[0m\n\u001b[0;31m    n += 1\u001b[0m\n\u001b[0m    ^\u001b[0m\n\u001b[0;31mIndentationError\u001b[0m\u001b[0;31m:\u001b[0m unindent does not match any outer indentation level\n"
     ]
    }
   ],
   "source": [
    "n, k = map(int, input().split())\n",
    " \n",
    "l = map(int, input().split())\n",
    "flag = False\n",
    " \n",
    "while flag == False:\n",
    "\tflag = True\n",
    "\tt = n\n",
    "\twhile t > 0:\n",
    "\t\tm = t % 10\n",
    "\t\tif m in l:\n",
    "\t\t\tflag = False\n",
    "\t\t\tbreak\n",
    "\t\tt = t / 10\n",
    "    n += 1\n",
    " \n",
    "print(n - 1)"
   ]
  },
  {
   "cell_type": "code",
   "execution_count": 46,
   "metadata": {},
   "outputs": [
    {
     "name": "stdin",
     "output_type": "stream",
     "text": [
      " 1000 8\n",
      " 1 3 4 5 6 7 8 9\n"
     ]
    },
    {
     "name": "stdout",
     "output_type": "stream",
     "text": [
      "2000\n"
     ]
    }
   ],
   "source": [
    "n, k = map(int, input().split())\n",
    "\n",
    "l = list(map(int, input().split()))\n",
    "flag = False\n",
    "\n",
    "while flag == False:\n",
    "    flag = True\n",
    "    t = n\n",
    "    while t > 0:\n",
    "        m = t % 10\n",
    "        if m in l:\n",
    "            flag = False\n",
    "            break\n",
    "        t = t // 10\n",
    "    n += 1\n",
    "print(n - 1)"
   ]
  },
  {
   "cell_type": "code",
   "execution_count": null,
   "metadata": {},
   "outputs": [],
   "source": []
  }
 ],
 "metadata": {
  "kernelspec": {
   "display_name": "Python 3",
   "language": "python",
   "name": "python3"
  },
  "language_info": {
   "codemirror_mode": {
    "name": "ipython",
    "version": 3
   },
   "file_extension": ".py",
   "mimetype": "text/x-python",
   "name": "python",
   "nbconvert_exporter": "python",
   "pygments_lexer": "ipython3",
   "version": "3.8.5"
  }
 },
 "nbformat": 4,
 "nbformat_minor": 4
}
