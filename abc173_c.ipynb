{
 "cells": [
  {
   "cell_type": "code",
   "execution_count": 18,
   "metadata": {},
   "outputs": [
    {
     "name": "stdin",
     "output_type": "stream",
     "text": [
      " 2 3 2\n",
      " ..#\n",
      " ###\n"
     ]
    }
   ],
   "source": [
    "# itertoolをimports\n",
    "import itertools as ite\n",
    "\n",
    "# H,W,K,Cを受け取る\n",
    "H,W,K = map(int, input().split())\n",
    "C = [list(input()) for i in range(H)]\n",
    "\n",
    "# H,Wよりマス目を形成する\n",
    "rows = [i for i in range(H)]\n",
    "columns = [j for j in range(W)]\n",
    "\n",
    "# 行・列の組み合わせを作る\n",
    "row_combs = []\n",
    "for i in range(H+1):\n",
    "    row_combs.extend(list(ite.combinations(rows, i)))\n",
    "\n",
    "column_combs = []\n",
    "for j in range(W+1):\n",
    "    column_combs.extend(list(ite.combinations(columns, j)))\n",
    "    \n",
    "#Cと組み合わせを照らし合わせ、'#'がK個になるパターンをカウントする\n",
    "for rows in row_combs:\n",
    "    for columns in column_combs:\n",
    "        if len(rows) == 0 and len(columns) == 0:\n",
    "            "
   ]
  },
  {
   "cell_type": "code",
   "execution_count": 3,
   "metadata": {},
   "outputs": [
    {
     "data": {
      "text/plain": [
       "(2, 3, 2)"
      ]
     },
     "execution_count": 3,
     "metadata": {},
     "output_type": "execute_result"
    }
   ],
   "source": [
    "H,W,K"
   ]
  },
  {
   "cell_type": "code",
   "execution_count": 17,
   "metadata": {},
   "outputs": [
    {
     "data": {
      "text/plain": [
       "'.'"
      ]
     },
     "execution_count": 17,
     "metadata": {},
     "output_type": "execute_result"
    }
   ],
   "source": [
    "C[0][0]"
   ]
  },
  {
   "cell_type": "code",
   "execution_count": 19,
   "metadata": {},
   "outputs": [
    {
     "data": {
      "text/plain": [
       "[(), (0,), (1,), (0, 1)]"
      ]
     },
     "execution_count": 19,
     "metadata": {},
     "output_type": "execute_result"
    }
   ],
   "source": [
    "row_combs"
   ]
  },
  {
   "cell_type": "code",
   "execution_count": 22,
   "metadata": {},
   "outputs": [
    {
     "data": {
      "text/plain": [
       "1"
      ]
     },
     "execution_count": 22,
     "metadata": {},
     "output_type": "execute_result"
    }
   ],
   "source": [
    "C[0].count('#')"
   ]
  },
  {
   "cell_type": "code",
   "execution_count": 2,
   "metadata": {},
   "outputs": [
    {
     "name": "stdin",
     "output_type": "stream",
     "text": [
      " 2 3 4\n",
      " ..#\n",
      " ###\n"
     ]
    },
    {
     "name": "stdout",
     "output_type": "stream",
     "text": [
      "1\n"
     ]
    }
   ],
   "source": [
    "import itertools\n",
    "import numpy as np\n",
    " \n",
    "# H, W, K\n",
    "H, W, K = map(int, input().split())\n",
    " \n",
    "# cijを取得\n",
    "C = np.array([list(input()) for i in range(H)])\n",
    " \n",
    "rows = [i for i in range(H)]\n",
    "columns = [j for j in range(W)]\n",
    " \n",
    "row_combs = []\n",
    "for i in range(H+1):\n",
    "    row_combs.extend(list(itertools.combinations(rows, i)))\n",
    "    \n",
    "column_combs = []\n",
    "for j in range(W+1):\n",
    "    column_combs.extend(list(itertools.combinations(columns, j)))\n",
    "    \n",
    "ret = 0\n",
    "for rows in row_combs:\n",
    "    for columns in column_combs:\n",
    "        tmp_rows = C[rows, :]\n",
    "        tmp_c = tmp_rows[:, columns]\n",
    "        ret += 1 if np.sum(tmp_c == '#') == K else 0\n",
    "                     \n",
    "print(ret)"
   ]
  },
  {
   "cell_type": "code",
   "execution_count": null,
   "metadata": {},
   "outputs": [],
   "source": []
  }
 ],
 "metadata": {
  "kernelspec": {
   "display_name": "Python 3",
   "language": "python",
   "name": "python3"
  },
  "language_info": {
   "codemirror_mode": {
    "name": "ipython",
    "version": 3
   },
   "file_extension": ".py",
   "mimetype": "text/x-python",
   "name": "python",
   "nbconvert_exporter": "python",
   "pygments_lexer": "ipython3",
   "version": "3.8.6"
  }
 },
 "nbformat": 4,
 "nbformat_minor": 4
}
